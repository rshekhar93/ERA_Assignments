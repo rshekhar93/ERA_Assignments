{
 "cells": [
  {
   "cell_type": "markdown",
   "metadata": {},
   "source": [
    "# Byte Pair Tokenizer \n",
    "*just getting a hang of it!*"
   ]
  },
  {
   "cell_type": "code",
   "execution_count": 2,
   "metadata": {},
   "outputs": [],
   "source": [
    "import requests\n",
    "import re\n",
    "from collections import defaultdict, Counter\n",
    "import torch"
   ]
  },
  {
   "cell_type": "markdown",
   "metadata": {},
   "source": [
    "### Functions"
   ]
  },
  {
   "cell_type": "code",
   "execution_count": 3,
   "metadata": {},
   "outputs": [],
   "source": [
    "# Step 1: Download a small corpus\n",
    "def download_corpus(url):\n",
    "    response = requests.get(url)\n",
    "    return response.text\n",
    "# Step 2: Implement the BPE algorithm\n",
    "def get_vocab(corpus):\n",
    "    vocab = defaultdict(int)\n",
    "    for word in corpus.split():\n",
    "        word = ' '.join(list(word)) + ' </w>'\n",
    "        vocab[word] += 1\n",
    "    return vocab\n",
    "\n",
    "def get_stats(vocab):\n",
    "    pairs = defaultdict(int)\n",
    "    for word, freq in vocab.items():\n",
    "        symbols = word.split()\n",
    "        for i in range(len(symbols) - 1):\n",
    "            pairs[symbols[i], symbols[i + 1]] += freq\n",
    "    return pairs\n",
    "\n",
    "def merge_vocab(pair, vocab):\n",
    "    new_vocab = {}\n",
    "    bigram = re.escape(' '.join(pair))\n",
    "    p = re.compile(r'(?<!\\S)' + bigram + r'(?!\\S)')\n",
    "    for word in vocab:\n",
    "        w_out = p.sub(''.join(pair), word)\n",
    "        new_vocab[w_out] = vocab[word]\n",
    "    return new_vocab\n",
    "\n",
    "def bpe(corpus, num_merges):\n",
    "    vocab = get_vocab(corpus)\n",
    "    for i in range(num_merges):\n",
    "        pairs = get_stats(vocab)\n",
    "        if not pairs:\n",
    "            break\n",
    "        best = max(pairs, key=pairs.get)\n",
    "        vocab = merge_vocab(best, vocab)\n",
    "    return vocab\n",
    "\n",
    "# Step 3: Tokenize the corpus using the BPE tokenizer\n",
    "def tokenize(corpus, vocab):\n",
    "    tokens = []\n",
    "    for word in corpus.split():\n",
    "        word = ' '.join(list(word)) + ' </w>'\n",
    "        for pair in vocab:\n",
    "            if pair in word:\n",
    "                word = word.replace(pair, ''.join(pair.split()))\n",
    "        tokens.extend(word.split())\n",
    "    return tokens\n",
    "\n",
    "# Step 4: Calculate and display the total tokens in the vocabulary and the compression ratio\n",
    "def calculate_compression_ratio(original_corpus, tokenized_corpus):\n",
    "    original_length = len(original_corpus.split())\n",
    "    tokenized_length = len(tokenized_corpus)\n",
    "    return original_length / tokenized_length"
   ]
  },
  {
   "cell_type": "markdown",
   "metadata": {},
   "source": [
    "### Execute"
   ]
  },
  {
   "cell_type": "code",
   "execution_count": 4,
   "metadata": {},
   "outputs": [
    {
     "name": "stdout",
     "output_type": "stream",
     "text": [
      "Corpus length: 1115394 characters\n",
      "\n",
      "First 100 characters:\n",
      " First Citizen:\n",
      "Before we proceed any further, hear me speak.\n",
      "\n",
      "All:\n",
      "Speak, speak.\n",
      "\n",
      "First Citizen:\n",
      "You\n"
     ]
    }
   ],
   "source": [
    "# Download a small corpus\n",
    "# url = \"https://www.gutenberg.org/files/11/11-0.txt\"  # Alice's Adventures in Wonderland\n",
    "url = 'https://raw.githubusercontent.com/karpathy/char-rnn/master/data/tinyshakespeare/input.txt'\n",
    "corpus = download_corpus(url)\n",
    "print(f'Corpus length: {len(corpus)} characters')\n",
    "print('\\nFirst 100 characters:\\n', corpus[:100])"
   ]
  },
  {
   "cell_type": "code",
   "execution_count": 5,
   "metadata": {},
   "outputs": [
    {
     "name": "stdout",
     "output_type": "stream",
     "text": [
      "Total tokens in vocabulary: 404\n",
      "Compression ratio: 0.19\n"
     ]
    }
   ],
   "source": [
    "# Implement BPE\n",
    "num_merges = 100\n",
    "vocab = bpe(corpus, num_merges)\n",
    "\n",
    "# Tokenize the corpus\n",
    "tokenized_corpus = tokenize(corpus, vocab)\n",
    "\n",
    "# Calculate and display the total tokens in the vocabulary and the compression ratio\n",
    "total_tokens = len(set(tokenized_corpus))\n",
    "compression_ratio = calculate_compression_ratio(corpus, tokenized_corpus)\n",
    "\n",
    "print(f\"Total tokens in vocabulary: {total_tokens}\")\n",
    "print(f\"Compression ratio: {compression_ratio:.2f}\")\n"
   ]
  },
  {
   "cell_type": "code",
   "execution_count": null,
   "metadata": {},
   "outputs": [],
   "source": []
  },
  {
   "cell_type": "code",
   "execution_count": null,
   "metadata": {},
   "outputs": [],
   "source": []
  },
  {
   "cell_type": "code",
   "execution_count": null,
   "metadata": {},
   "outputs": [],
   "source": []
  },
  {
   "cell_type": "code",
   "execution_count": null,
   "metadata": {},
   "outputs": [],
   "source": []
  }
 ],
 "metadata": {
  "kernelspec": {
   "display_name": "era_gpu",
   "language": "python",
   "name": "era_gpu"
  },
  "language_info": {
   "codemirror_mode": {
    "name": "ipython",
    "version": 3
   },
   "file_extension": ".py",
   "mimetype": "text/x-python",
   "name": "python",
   "nbconvert_exporter": "python",
   "pygments_lexer": "ipython3",
   "version": "3.11.7"
  }
 },
 "nbformat": 4,
 "nbformat_minor": 2
}
